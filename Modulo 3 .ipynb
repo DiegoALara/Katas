{
 "cells": [
  {
   "cell_type": "markdown",
   "metadata": {},
   "source": [
    "# Ejercicio - Escribir declaraciones if, else, y elif\n",
    "\n"
   ]
  },
  {
   "cell_type": "code",
   "execution_count": 1,
   "metadata": {},
   "outputs": [
    {
     "name": "stdout",
     "output_type": "stream",
     "text": [
      "¡Cuidado! un asteroide se acerca a la Tierra demasiado rápido.\n"
     ]
    }
   ],
   "source": [
    "#Añadir el código necesario para crear una variable que guarde la velocidad del asteroide. \n",
    "#Escribe una expresión de prueba para calcular si necesita una advertencia.\n",
    "#Agregue las instrucciones que se ejecutarán si la expresión de prueba es true o false.\n",
    "\n",
    "vel_ast = 49\n",
    "\n",
    "if vel_ast > 25:\n",
    "    print(\"¡Cuidado! un asteroide se acerca a la Tierra demasiado rápido.\")\n",
    "else: \n",
    "    print(\"El asteroide no representa un peligro.\")\n"
   ]
  },
  {
   "cell_type": "code",
   "execution_count": 3,
   "metadata": {},
   "outputs": [
    {
     "name": "stdout",
     "output_type": "stream",
     "text": [
      "No se ve nada en el cielo\n"
     ]
    }
   ],
   "source": [
    "# Agrega el código para crear una variable para un asteroide que viaja a 19 km/s\n",
    "# Escribe varias expresiones de prueba para determinar si puedes ver el rayo de luz desde la tierra\n",
    "# Agrega las instrucciones que se ejecutarán si las expresiones de prueba son True o False\n",
    "\n",
    "vel_ast = 19 \n",
    "\n",
    "if vel_ast > 20:\n",
    "    print(\"Hay un rayo de luz en el cielo\")\n",
    "elif vel_ast == 20:\n",
    "    print(\"Hay un rayo de luz en el cielo\")\n",
    "else:\n",
    "    print(\"No se ve nada en el cielo\")\n"
   ]
  },
  {
   "cell_type": "markdown",
   "metadata": {},
   "source": [
    "# Ejercicio: Uso de operadores and y or"
   ]
  },
  {
   "cell_type": "code",
   "execution_count": 5,
   "metadata": {},
   "outputs": [
    {
     "name": "stdout",
     "output_type": "stream",
     "text": [
      "El asteroide no representa un peligro.\n"
     ]
    }
   ],
   "source": [
    "# Agrega el código para crear nuevas variables para la velocidad y el tamaño del asteroide\n",
    "# Para probar el código, prueba con varias velocidades y tamaños\n",
    "# Escribe varias expresiones de prueba o combinaciones de expresiones de prueba para determinar qué mensaje se debe enviar a Tierra.\n",
    "\n",
    "vel_ast1 = 19\n",
    "size_ast = 25\n",
    "\n",
    "if (vel_ast1 > 25 and size_ast > 25):\n",
    "    print(\"¡Cuidado! un asteroide se acerca a la Tierra demasiado rápido.\")\n",
    "elif vel_ast1 > 20:\n",
    "    print(\"Hay un rayo de luz en el cielo\")\n",
    "elif vel_ast1 == 20:\n",
    "    print(\"Hay un rayo de luz en el cielo\")\n",
    "elif size_ast < 25:\n",
    "    print(\"No se ve nada en el cielo\")\n",
    "else: \n",
    "    print(\"El asteroide no representa un peligro.\")"
   ]
  },
  {
   "cell_type": "code",
   "execution_count": null,
   "metadata": {},
   "outputs": [],
   "source": []
  }
 ],
 "metadata": {
  "interpreter": {
   "hash": "31f2aee4e71d21fbe5cf8b01ff0e069b9275f58929596ceb00d14d90e3e16cd6"
  },
  "kernelspec": {
   "display_name": "Python 3 (ipykernel)",
   "language": "python",
   "name": "python3"
  },
  "language_info": {
   "codemirror_mode": {
    "name": "ipython",
    "version": 3
   },
   "file_extension": ".py",
   "mimetype": "text/x-python",
   "name": "python",
   "nbconvert_exporter": "python",
   "pygments_lexer": "ipython3",
   "version": "3.8.8"
  }
 },
 "nbformat": 4,
 "nbformat_minor": 2
}
