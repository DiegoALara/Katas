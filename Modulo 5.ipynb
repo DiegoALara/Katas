{
 "cells": [
  {
   "cell_type": "markdown",
   "metadata": {},
   "source": [
    "## Ejercicio1. Utilizar operadores aritméticos"
   ]
  },
  {
   "cell_type": "markdown",
   "metadata": {},
   "source": [
    "Exploremos cómo podemos crear un programa que pueda calcular la distancia entre dos planetas. Comenzaremos usando dos distancias de planetas: Tierra (149.597.870 km) y Júpiter (778.547.200 km).\n",
    "\n"
   ]
  },
  {
   "cell_type": "code",
   "execution_count": 1,
   "metadata": {},
   "outputs": [
    {
     "name": "stdout",
     "output_type": "stream",
     "text": [
      "La distancia entre ambos planetas es: 628949330 km\n",
      "La distancia entre ambos planetas es: 390577534 mi\n"
     ]
    }
   ],
   "source": [
    "# Crear variables para almacenar las dos distancias\n",
    "# ¡Asegúrate de quitar las comas!\n",
    "\n",
    "dt = 149597870 #  km\n",
    "dj = 778547200 #  km\n",
    "\n",
    "# Calcular la distancia entre planetas\n",
    "\n",
    "dist_p = dj-dt\n",
    "print(\"La distancia entre ambos planetas es: \" + str(dist_p) + \" km\")\n",
    "# Conversion de km a millas y redondeo\n",
    "dist_mill = dist_p * 0.621\n",
    "print(\"La distancia entre ambos planetas es: \" + str(round(dist_mill)) + \" mi\")"
   ]
  },
  {
   "cell_type": "markdown",
   "metadata": {},
   "source": [
    "## Ejercicio 2: convierte cadenas en números y usa valores absolutos\n"
   ]
  },
  {
   "cell_type": "code",
   "execution_count": 4,
   "metadata": {},
   "outputs": [
    {
     "name": "stdout",
     "output_type": "stream",
     "text": [
      "Ingresa la distancia al Sol para el primer planeta en km: \n",
      "\t2872500000\n",
      "Ingresa la distancia al Sol para el segundo planeta en km: \n",
      "778600000\n",
      "La distancia entre ambos planetas es: 2093900000 km \n",
      "\n",
      "La distancia entre ambos planetas es: 1300311900.0 mi \n",
      "\n"
     ]
    }
   ],
   "source": [
    "# Almacenar las entradas del usuario\n",
    "# Convierte las cadenas de ambos planetas a números enteros\n",
    "\n",
    "in1 = input(\"Ingresa la distancia al Sol para el primer planeta en km: \\n\")\n",
    "in2= input(\"Ingresa la distancia al Sol para el segundo planeta en km: \\n\")\n",
    "\n",
    "# Convierte las cadenas de ambos planetas a números enteros\n",
    "p1 = int(in1)\n",
    "p2 = int(in2)\n",
    "\n",
    "# Realizar el cálculo y determinar el valor absoluto\n",
    "dist = p2-p1\n",
    "\n",
    "#Distancia en km\n",
    "print(\"La distancia entre ambos planetas es: \" + str(abs(dist)) + \" km \\n\")\n",
    "\n",
    "# Distancia en millas\n",
    "dist_mi = dist*0.621\n",
    "print(\"La distancia entre ambos planetas es: \" + str(abs(dist_mi)) + \" mi \\n\")"
   ]
  },
  {
   "cell_type": "code",
   "execution_count": null,
   "metadata": {},
   "outputs": [],
   "source": []
  }
 ],
 "metadata": {
  "interpreter": {
   "hash": "31f2aee4e71d21fbe5cf8b01ff0e069b9275f58929596ceb00d14d90e3e16cd6"
  },
  "kernelspec": {
   "display_name": "Python 3 (ipykernel)",
   "language": "python",
   "name": "python3"
  },
  "language_info": {
   "codemirror_mode": {
    "name": "ipython",
    "version": 3
   },
   "file_extension": ".py",
   "mimetype": "text/x-python",
   "name": "python",
   "nbconvert_exporter": "python",
   "pygments_lexer": "ipython3",
   "version": "3.8.8"
  }
 },
 "nbformat": 4,
 "nbformat_minor": 2
}
