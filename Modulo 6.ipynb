{
 "cells": [
  {
   "cell_type": "markdown",
   "metadata": {},
   "source": [
    "## Ejercicio1: Crear y usar listas de Python\n",
    "\n",
    "Ejercicio: Usar listas para almacenar nombres de planetas"
   ]
  },
  {
   "cell_type": "code",
   "execution_count": 5,
   "metadata": {},
   "outputs": [
    {
     "name": "stdout",
     "output_type": "stream",
     "text": [
      "List of planets: ['Mercury', 'Venus', 'Earth', 'Mars', 'Jupiter', 'Saturn', 'Neptune']\n",
      "Hay 7 planetas\n",
      "Pluto is the last planet\n"
     ]
    }
   ],
   "source": [
    "# Creamos la lista planets y la mostramos\n",
    "planets = ['Mercury', 'Venus', 'Earth', 'Mars', 'Jupiter', 'Saturn', 'Neptune']\n",
    "print(\"List of planets: \" + str(planets))\n",
    "\n",
    "num_planets = len(planets)\n",
    "print(\"Hay \" + str(num_planets) + \" planetas\")\n",
    "\n",
    "# Agregamos a plutón y mostramos el último elemento\n",
    "\n",
    "planets.append(\"Pluto\")\n",
    "last_planet = planets[-1]\n",
    "print(last_planet + \" is the last planet\")"
   ]
  },
  {
   "cell_type": "markdown",
   "metadata": {},
   "source": [
    "## Ejercicio 2: Trabajando con datos de una lista\n",
    "\n",
    "Usar slices para recuperar partes de una lista\n"
   ]
  },
  {
   "cell_type": "code",
   "execution_count": 11,
   "metadata": {},
   "outputs": [
    {
     "name": "stdout",
     "output_type": "stream",
     "text": [
      "Enter the name of a planet with the first letter capitalized \n",
      "Mars\n",
      "The planets closer than planet  Mars to the Sun are: ['Mercury', 'Venus', 'Earth'] \n",
      "\n",
      "The planets farther than the planet Mars to the Sun are: ['Jupiter', 'Saturn', 'Neptune']\n"
     ]
    }
   ],
   "source": [
    "# Lista de planetas\n",
    "planets = ['Mercury', 'Venus', 'Earth', 'Mars', 'Jupiter', 'Saturn', 'Neptune']\n",
    "\n",
    "# Solicitamos el nombre de un planeta *Pista:  input()*\n",
    "in1 = input(\"Enter the name of a planet with the first letter capitalized \\n\")\n",
    "\n",
    "# Busca el planeta en la lista\n",
    "wanted_planet = planets.index(in1)\n",
    "\n",
    "# Muestra los planetas más cercanos al sol\n",
    "near_planets = planets[0:wanted_planet]\n",
    "print(\"The planets closer than planet  \" + in1 + \" to the Sun are: \" + str(near_planets),'\\n')\n",
    "\n",
    "# Muestra los planetas más lejanos al sol\n",
    "distant_planets = planets[wanted_planet+1:]\n",
    "print(\"The planets farther than the planet \" + in1 + \" to the Sun are: \" + str(distant_planets))"
   ]
  },
  {
   "cell_type": "code",
   "execution_count": null,
   "metadata": {},
   "outputs": [],
   "source": []
  }
 ],
 "metadata": {
  "interpreter": {
   "hash": "31f2aee4e71d21fbe5cf8b01ff0e069b9275f58929596ceb00d14d90e3e16cd6"
  },
  "kernelspec": {
   "display_name": "Python 3 (ipykernel)",
   "language": "python",
   "name": "python3"
  },
  "language_info": {
   "codemirror_mode": {
    "name": "ipython",
    "version": 3
   },
   "file_extension": ".py",
   "mimetype": "text/x-python",
   "name": "python",
   "nbconvert_exporter": "python",
   "pygments_lexer": "ipython3",
   "version": "3.8.8"
  }
 },
 "nbformat": 4,
 "nbformat_minor": 2
}
