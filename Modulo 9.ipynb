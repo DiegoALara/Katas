{
 "cells": [
  {
   "cell_type": "markdown",
   "metadata": {},
   "source": [
    "## Ejercicio 1: Trabajar con argumentos en funciones"
   ]
  },
  {
   "cell_type": "code",
   "execution_count": 7,
   "metadata": {},
   "outputs": [
    {
     "name": "stdout",
     "output_type": "stream",
     "text": [
      "Average: 51.0\n",
      "Tank 1: 40\n",
      "Tank 2: 35\n",
      "Tank 3: 78\n",
      "51.0\n"
     ]
    }
   ],
   "source": [
    "# Función para leer 3 tanques de combustible y muestre el promedio\n",
    "def report(t1, t2, t3):\n",
    "    average = (t1 + t2 + t3)/3 \n",
    "    return f'Average: {average}\\nTank 1: {t1}\\nTank 2: {t2}\\nTank 3: {t3}'\n",
    "\n",
    "# Llamamos a la función que genera el reporte print(funcion(tanque1, tanque2, tanque3))\n",
    "print(report(40,35,78))\n",
    "\n",
    "# Función promedio \n",
    "def ave(*args):\n",
    "    total = sum(args)\n",
    "    tanks = len(args)\n",
    "    return total / tanks\n",
    "\n",
    "# Actualiza la función\n",
    "print(ave(40,35,78))"
   ]
  },
  {
   "cell_type": "markdown",
   "metadata": {},
   "source": [
    "## Ejercicio 2: Trabajo con argumentos de palabra clave"
   ]
  },
  {
   "cell_type": "code",
   "execution_count": 14,
   "metadata": {},
   "outputs": [
    {
     "name": "stdout",
     "output_type": "stream",
     "text": [
      "Destiny: Moon\n",
      "time to destiny: 71\n",
      "remaining fuel: 750000 \n",
      "\n",
      "Destiny: Moon\n",
      "time to destiny:144 minutes\n",
      "remaining fuel: 350000 \n",
      "\n",
      "Destiny: Moon\n",
      "time to destiny:102 minutes\n",
      "remaining fuel: 840000\n",
      "Interno: 500000 remaining gal\n",
      "Externo: 340000 remaining gal\n"
     ]
    }
   ],
   "source": [
    "# Función con un informe preciso de la misión. Considera hora de prelanzamiento, tiempo de vuelo, destino, tanque externo y tanque interno\n",
    "\n",
    "def mission_report(plt, tf, destiny, ext_tank, int_tank):\n",
    "    return f'Destiny: {destiny}\\ntime to destiny: {tf + plt}\\nremaining fuel: {ext_tank + int_tank}'\n",
    "print(mission_report(11, 60, \"Moon\", 300000, 450000),'\\n')\n",
    "\n",
    "# Escribe tu nueva función de reporte considerando lo anterior\n",
    "\n",
    "def mission_report(destiny, *minn, **fuel_t):\n",
    "    return f'Destiny: {destiny}\\ntime to destiny:{sum(minn)} minutes\\nremaining fuel: {sum(fuel_t.values())}'\n",
    "print(mission_report(\"Moon\", 20,54,70, tI = 150000, tE = 200000),'\\n')\n",
    "\n",
    "def mission_report(destiny, *minn, **fuel_t):\n",
    "    report = f'Destiny: {destiny}\\ntime to destiny:{sum(minn)} minutes\\nremaining fuel: {sum(fuel_t.values())}'\n",
    "    for name_t, cap in fuel_t.items():\n",
    "        report +=f'\\n{name_t}: {cap} remaining gal'\n",
    "    return report\n",
    "print(mission_report(\"Moon\", 30, 12, 60, Interno = 500000, Externo = 340000))"
   ]
  },
  {
   "cell_type": "code",
   "execution_count": null,
   "metadata": {},
   "outputs": [],
   "source": []
  }
 ],
 "metadata": {
  "interpreter": {
   "hash": "31f2aee4e71d21fbe5cf8b01ff0e069b9275f58929596ceb00d14d90e3e16cd6"
  },
  "kernelspec": {
   "display_name": "Python 3 (ipykernel)",
   "language": "python",
   "name": "python3"
  },
  "language_info": {
   "codemirror_mode": {
    "name": "ipython",
    "version": 3
   },
   "file_extension": ".py",
   "mimetype": "text/x-python",
   "name": "python",
   "nbconvert_exporter": "python",
   "pygments_lexer": "ipython3",
   "version": "3.8.8"
  }
 },
 "nbformat": 4,
 "nbformat_minor": 2
}
